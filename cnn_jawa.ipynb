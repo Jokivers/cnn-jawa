{
  "nbformat": 4,
  "nbformat_minor": 0,
  "metadata": {
    "colab": {
      "provenance": []
    },
    "kernelspec": {
      "name": "python3",
      "display_name": "Python 3"
    },
    "language_info": {
      "name": "python"
    }
  },
  "cells": [
    {
      "cell_type": "code",
      "execution_count": 1,
      "metadata": {
        "colab": {
          "base_uri": "https://localhost:8080/",
          "height": 1000
        },
        "id": "CCaFomJUiNmd",
        "outputId": "73095046-b2de-4f79-deb8-84809119f520"
      },
      "outputs": [
        {
          "output_type": "stream",
          "name": "stdout",
          "text": [
            "Nama kolom dalam dataset:\n",
            "Index(['kalimat', 'kelas'], dtype='object')\n",
            "\n",
            "Jumlah data per kelas:\n",
            "kelas\n",
            "ngoko    500\n",
            "krama    500\n",
            "madya    200\n",
            "Name: count, dtype: int64\n",
            "\n",
            "Contoh data per kelas:\n",
            "\n",
            "Ngoko (5 contoh pertama):\n",
            "['aku kepingin nyilih dhuwit kowe sethihtik'\n",
            " 'Arep nesu marang indosat! Kok sinyale ilang terus si'\n",
            " 'Enak lumayan, nanging regane larang amarga porsine luwih sithik.'\n",
            " 'Tuku susu neng minimarket, ora ngertine wis ngluwihi wektu kedaluwarsa telung dina, semrawut!'\n",
            " 'aku seneng sinau bareng kanca-kanca']\n",
            "\n",
            "Madya (5 contoh pertama):\n",
            "[nan 'para tiyang sami dolanan layangan teng sawah.' nan\n",
            " 'dinten niki, kula kesah piknik.' 'sampeyan saweg pados napa ?']\n",
            "\n",
            "Krama (5 contoh pertama):\n",
            "['kawula kepingin nyambut dhuwit penjenengsn sekedhik'\n",
            " 'bengkel payah, mobil 3 sasi boten dikerjain ugi, bengkel ingkang nguciwakaken'\n",
            " 'HRV punika mobil idaman sanget wiwit rumiyin langkung malih swantenipun saged nngasta manahipun si eneng meleleh'\n",
            " 'Bengkel Toyota Pemuda menika sae sanget pelayanane, servisipun ugi sae . Matur nuwun sanget'\n",
            " 'Kawula remen sinau sareng rencang-rencang']\n",
            "\n",
            "Data setelah cleaning:\n",
            "                                             kalimat  \\\n",
            "0          aku kepingin nyilih dhuwit kowe sethihtik   \n",
            "1  Arep nesu marang indosat! Kok sinyale ilang te...   \n",
            "2  Enak lumayan, nanging regane larang amarga por...   \n",
            "3  Tuku susu neng minimarket, ora ngertine wis ng...   \n",
            "4                aku seneng sinau bareng kanca-kanca   \n",
            "\n",
            "                                       kalimat_clean  \n",
            "0          aku kepingin nyilih dhuwit kowe sethihtik  \n",
            "1  Arep nesu marang indosat Kok sinyale ilang ter...  \n",
            "2  Enak lumayan nanging regane larang amarga pors...  \n",
            "3  Tuku susu neng minimarket ora ngertine wis ngl...  \n",
            "4                 aku seneng sinau bareng kancakanca  \n",
            "\n",
            "Data setelah case folding:\n",
            "0            aku kepingin nyilih dhuwit kowe sethihtik\n",
            "1    arep nesu marang indosat kok sinyale ilang ter...\n",
            "2    enak lumayan nanging regane larang amarga pors...\n",
            "3    tuku susu neng minimarket ora ngertine wis ngl...\n",
            "4                   aku seneng sinau bareng kancakanca\n",
            "Name: kalimat_clean, dtype: object\n",
            "\n",
            "Contoh data setelah padding:\n",
            "[[   4  290  965  291   30  966    0    0    0    0    0    0    0    0\n",
            "     0    0    0    0    0    0    0    0    0    0    0    0    0    0\n",
            "     0    0    0    0    0    0    0    0    0]\n",
            " [  47  190  138  425  426 1443  521  117  249    0    0    0    0    0\n",
            "     0    0    0    0    0    0    0    0    0    0    0    0    0    0\n",
            "     0    0    0    0    0    0    0    0    0]\n",
            " [  35  216   16   58  125   64  522  171  217    0    0    0    0    0\n",
            "     0    0    0    0    0    0    0    0    0    0    0    0    0    0\n",
            "     0    0    0    0    0    0    0    0    0]\n",
            " [  51  685   14  686    7  687   49  688  139  689  690   80  691    0\n",
            "     0    0    0    0    0    0    0    0    0    0    0    0    0    0\n",
            "     0    0    0    0    0    0    0    0    0]\n",
            " [   4  103   60   61  427    0    0    0    0    0    0    0    0    0\n",
            "     0    0    0    0    0    0    0    0    0    0    0    0    0    0\n",
            "     0    0    0    0    0    0    0    0    0]]\n",
            "\n",
            "Ukuran dataset setelah train-test split:\n",
            "X_train: (960, 37), y_train: (960, 3)\n",
            "X_test: (240, 37), y_test: (240, 3)\n",
            "Distribusi kelas di X_train:\n",
            "2    400\n",
            "0    400\n",
            "1    160\n",
            "Name: count, dtype: int64\n",
            "Distribusi kelas di X_test:\n",
            "2    100\n",
            "0    100\n",
            "1     40\n",
            "Name: count, dtype: int64\n",
            "\n",
            "Ukuran dataset setelah SMOTE (Train):\n",
            "X_train_smote: (1200, 37)\n",
            "y_train_smote: (1200, 3)\n",
            "Distribusi kelas setelah SMOTE (Train):\n",
            "2    400\n",
            "1    400\n",
            "0    400\n",
            "Name: count, dtype: int64\n",
            "\n",
            "Ukuran dataset setelah SMOTE (Test):\n",
            "X_test_smote: (300, 37)\n",
            "y_test_smote: (300, 3)\n",
            "Distribusi kelas setelah SMOTE (Test):\n",
            "2    100\n",
            "0    100\n",
            "1    100\n",
            "Name: count, dtype: int64\n",
            "\n",
            "Fold 1 - Skenario 1 (Data Asli, Train)\n",
            "Fold 1 - Train fold: (768, 37), Val fold: (192, 37)\n"
          ]
        },
        {
          "output_type": "stream",
          "name": "stderr",
          "text": [
            "/usr/local/lib/python3.11/dist-packages/keras/src/layers/core/embedding.py:90: UserWarning: Argument `input_length` is deprecated. Just remove it.\n",
            "  warnings.warn(\n"
          ]
        },
        {
          "output_type": "stream",
          "name": "stdout",
          "text": [
            "\u001b[1m6/6\u001b[0m \u001b[32m━━━━━━━━━━━━━━━━━━━━\u001b[0m\u001b[37m\u001b[0m \u001b[1m0s\u001b[0m 8ms/step \n",
            "\n",
            "Fold 2 - Skenario 1 (Data Asli, Train)\n",
            "Fold 2 - Train fold: (768, 37), Val fold: (192, 37)\n"
          ]
        },
        {
          "output_type": "stream",
          "name": "stderr",
          "text": [
            "/usr/local/lib/python3.11/dist-packages/keras/src/layers/core/embedding.py:90: UserWarning: Argument `input_length` is deprecated. Just remove it.\n",
            "  warnings.warn(\n"
          ]
        },
        {
          "output_type": "stream",
          "name": "stdout",
          "text": [
            "\u001b[1m6/6\u001b[0m \u001b[32m━━━━━━━━━━━━━━━━━━━━\u001b[0m\u001b[37m\u001b[0m \u001b[1m0s\u001b[0m 8ms/step \n",
            "\n",
            "Fold 3 - Skenario 1 (Data Asli, Train)\n",
            "Fold 3 - Train fold: (768, 37), Val fold: (192, 37)\n"
          ]
        },
        {
          "output_type": "stream",
          "name": "stderr",
          "text": [
            "/usr/local/lib/python3.11/dist-packages/keras/src/layers/core/embedding.py:90: UserWarning: Argument `input_length` is deprecated. Just remove it.\n",
            "  warnings.warn(\n"
          ]
        },
        {
          "output_type": "stream",
          "name": "stdout",
          "text": [
            "\u001b[1m6/6\u001b[0m \u001b[32m━━━━━━━━━━━━━━━━━━━━\u001b[0m\u001b[37m\u001b[0m \u001b[1m0s\u001b[0m 8ms/step \n",
            "\n",
            "Fold 4 - Skenario 1 (Data Asli, Train)\n",
            "Fold 4 - Train fold: (768, 37), Val fold: (192, 37)\n"
          ]
        },
        {
          "output_type": "stream",
          "name": "stderr",
          "text": [
            "/usr/local/lib/python3.11/dist-packages/keras/src/layers/core/embedding.py:90: UserWarning: Argument `input_length` is deprecated. Just remove it.\n",
            "  warnings.warn(\n"
          ]
        },
        {
          "output_type": "stream",
          "name": "stdout",
          "text": [
            "\u001b[1m6/6\u001b[0m \u001b[32m━━━━━━━━━━━━━━━━━━━━\u001b[0m\u001b[37m\u001b[0m \u001b[1m0s\u001b[0m 8ms/step \n",
            "\n",
            "Fold 5 - Skenario 1 (Data Asli, Train)\n",
            "Fold 5 - Train fold: (768, 37), Val fold: (192, 37)\n"
          ]
        },
        {
          "output_type": "stream",
          "name": "stderr",
          "text": [
            "/usr/local/lib/python3.11/dist-packages/keras/src/layers/core/embedding.py:90: UserWarning: Argument `input_length` is deprecated. Just remove it.\n",
            "  warnings.warn(\n"
          ]
        },
        {
          "output_type": "stream",
          "name": "stdout",
          "text": [
            "\u001b[1m6/6\u001b[0m \u001b[32m━━━━━━━━━━━━━━━━━━━━\u001b[0m\u001b[37m\u001b[0m \u001b[1m0s\u001b[0m 8ms/step \n",
            "\n",
            "Fold 1 - Skenario 1 (Data Asli, Test)\n",
            "Fold 1 - Test fold: (48, 37)\n"
          ]
        },
        {
          "output_type": "stream",
          "name": "stderr",
          "text": [
            "/usr/local/lib/python3.11/dist-packages/keras/src/layers/core/embedding.py:90: UserWarning: Argument `input_length` is deprecated. Just remove it.\n",
            "  warnings.warn(\n"
          ]
        },
        {
          "output_type": "stream",
          "name": "stdout",
          "text": [
            "\u001b[1m2/2\u001b[0m \u001b[32m━━━━━━━━━━━━━━━━━━━━\u001b[0m\u001b[37m\u001b[0m \u001b[1m0s\u001b[0m 147ms/step\n",
            "\n",
            "Fold 2 - Skenario 1 (Data Asli, Test)\n",
            "Fold 2 - Test fold: (48, 37)\n"
          ]
        },
        {
          "output_type": "stream",
          "name": "stderr",
          "text": [
            "/usr/local/lib/python3.11/dist-packages/keras/src/layers/core/embedding.py:90: UserWarning: Argument `input_length` is deprecated. Just remove it.\n",
            "  warnings.warn(\n",
            "WARNING:tensorflow:5 out of the last 15 calls to <function TensorFlowTrainer.make_predict_function.<locals>.one_step_on_data_distributed at 0x7e0e7242eb60> triggered tf.function retracing. Tracing is expensive and the excessive number of tracings could be due to (1) creating @tf.function repeatedly in a loop, (2) passing tensors with different shapes, (3) passing Python objects instead of tensors. For (1), please define your @tf.function outside of the loop. For (2), @tf.function has reduce_retracing=True option that can avoid unnecessary retracing. For (3), please refer to https://www.tensorflow.org/guide/function#controlling_retracing and https://www.tensorflow.org/api_docs/python/tf/function for  more details.\n"
          ]
        },
        {
          "output_type": "stream",
          "name": "stdout",
          "text": [
            "\r\u001b[1m1/2\u001b[0m \u001b[32m━━━━━━━━━━\u001b[0m\u001b[37m━━━━━━━━━━\u001b[0m \u001b[1m0s\u001b[0m 85ms/step"
          ]
        },
        {
          "output_type": "stream",
          "name": "stderr",
          "text": [
            "WARNING:tensorflow:6 out of the last 16 calls to <function TensorFlowTrainer.make_predict_function.<locals>.one_step_on_data_distributed at 0x7e0e7242eb60> triggered tf.function retracing. Tracing is expensive and the excessive number of tracings could be due to (1) creating @tf.function repeatedly in a loop, (2) passing tensors with different shapes, (3) passing Python objects instead of tensors. For (1), please define your @tf.function outside of the loop. For (2), @tf.function has reduce_retracing=True option that can avoid unnecessary retracing. For (3), please refer to https://www.tensorflow.org/guide/function#controlling_retracing and https://www.tensorflow.org/api_docs/python/tf/function for  more details.\n"
          ]
        },
        {
          "output_type": "stream",
          "name": "stdout",
          "text": [
            "\u001b[1m2/2\u001b[0m \u001b[32m━━━━━━━━━━━━━━━━━━━━\u001b[0m\u001b[37m\u001b[0m \u001b[1m0s\u001b[0m 89ms/step\n"
          ]
        },
        {
          "output_type": "stream",
          "name": "stderr",
          "text": [
            "/usr/local/lib/python3.11/dist-packages/keras/src/layers/core/embedding.py:90: UserWarning: Argument `input_length` is deprecated. Just remove it.\n",
            "  warnings.warn(\n"
          ]
        },
        {
          "output_type": "stream",
          "name": "stdout",
          "text": [
            "\n",
            "Fold 3 - Skenario 1 (Data Asli, Test)\n",
            "Fold 3 - Test fold: (48, 37)\n",
            "\u001b[1m2/2\u001b[0m \u001b[32m━━━━━━━━━━━━━━━━━━━━\u001b[0m\u001b[37m\u001b[0m \u001b[1m0s\u001b[0m 85ms/step\n",
            "\n",
            "Fold 4 - Skenario 1 (Data Asli, Test)\n",
            "Fold 4 - Test fold: (48, 37)\n"
          ]
        },
        {
          "output_type": "stream",
          "name": "stderr",
          "text": [
            "/usr/local/lib/python3.11/dist-packages/keras/src/layers/core/embedding.py:90: UserWarning: Argument `input_length` is deprecated. Just remove it.\n",
            "  warnings.warn(\n"
          ]
        },
        {
          "output_type": "stream",
          "name": "stdout",
          "text": [
            "\u001b[1m2/2\u001b[0m \u001b[32m━━━━━━━━━━━━━━━━━━━━\u001b[0m\u001b[37m\u001b[0m \u001b[1m0s\u001b[0m 88ms/step\n",
            "\n",
            "Fold 5 - Skenario 1 (Data Asli, Test)\n",
            "Fold 5 - Test fold: (48, 37)\n"
          ]
        },
        {
          "output_type": "stream",
          "name": "stderr",
          "text": [
            "/usr/local/lib/python3.11/dist-packages/keras/src/layers/core/embedding.py:90: UserWarning: Argument `input_length` is deprecated. Just remove it.\n",
            "  warnings.warn(\n"
          ]
        },
        {
          "output_type": "stream",
          "name": "stdout",
          "text": [
            "\u001b[1m2/2\u001b[0m \u001b[32m━━━━━━━━━━━━━━━━━━━━\u001b[0m\u001b[37m\u001b[0m \u001b[1m0s\u001b[0m 88ms/step\n",
            "\n",
            "Fold 1 - Skenario 2 (Data SMOTE, Train)\n",
            "Fold 1 - Train fold: (960, 37), Val fold: (240, 37)\n"
          ]
        },
        {
          "output_type": "stream",
          "name": "stderr",
          "text": [
            "/usr/local/lib/python3.11/dist-packages/keras/src/layers/core/embedding.py:90: UserWarning: Argument `input_length` is deprecated. Just remove it.\n",
            "  warnings.warn(\n"
          ]
        },
        {
          "output_type": "stream",
          "name": "stdout",
          "text": [
            "\u001b[1m8/8\u001b[0m \u001b[32m━━━━━━━━━━━━━━━━━━━━\u001b[0m\u001b[37m\u001b[0m \u001b[1m0s\u001b[0m 16ms/step\n",
            "\n",
            "Fold 2 - Skenario 2 (Data SMOTE, Train)\n",
            "Fold 2 - Train fold: (960, 37), Val fold: (240, 37)\n"
          ]
        },
        {
          "output_type": "stream",
          "name": "stderr",
          "text": [
            "/usr/local/lib/python3.11/dist-packages/keras/src/layers/core/embedding.py:90: UserWarning: Argument `input_length` is deprecated. Just remove it.\n",
            "  warnings.warn(\n"
          ]
        },
        {
          "output_type": "stream",
          "name": "stdout",
          "text": [
            "\u001b[1m8/8\u001b[0m \u001b[32m━━━━━━━━━━━━━━━━━━━━\u001b[0m\u001b[37m\u001b[0m \u001b[1m0s\u001b[0m 18ms/step\n",
            "\n",
            "Fold 3 - Skenario 2 (Data SMOTE, Train)\n",
            "Fold 3 - Train fold: (960, 37), Val fold: (240, 37)\n"
          ]
        },
        {
          "output_type": "stream",
          "name": "stderr",
          "text": [
            "/usr/local/lib/python3.11/dist-packages/keras/src/layers/core/embedding.py:90: UserWarning: Argument `input_length` is deprecated. Just remove it.\n",
            "  warnings.warn(\n"
          ]
        },
        {
          "output_type": "stream",
          "name": "stdout",
          "text": [
            "\u001b[1m8/8\u001b[0m \u001b[32m━━━━━━━━━━━━━━━━━━━━\u001b[0m\u001b[37m\u001b[0m \u001b[1m0s\u001b[0m 26ms/step\n",
            "\n",
            "Fold 4 - Skenario 2 (Data SMOTE, Train)\n",
            "Fold 4 - Train fold: (960, 37), Val fold: (240, 37)\n"
          ]
        },
        {
          "output_type": "stream",
          "name": "stderr",
          "text": [
            "/usr/local/lib/python3.11/dist-packages/keras/src/layers/core/embedding.py:90: UserWarning: Argument `input_length` is deprecated. Just remove it.\n",
            "  warnings.warn(\n"
          ]
        },
        {
          "output_type": "stream",
          "name": "stdout",
          "text": [
            "\u001b[1m8/8\u001b[0m \u001b[32m━━━━━━━━━━━━━━━━━━━━\u001b[0m\u001b[37m\u001b[0m \u001b[1m0s\u001b[0m 18ms/step\n",
            "\n",
            "Fold 5 - Skenario 2 (Data SMOTE, Train)\n",
            "Fold 5 - Train fold: (960, 37), Val fold: (240, 37)\n"
          ]
        },
        {
          "output_type": "stream",
          "name": "stderr",
          "text": [
            "/usr/local/lib/python3.11/dist-packages/keras/src/layers/core/embedding.py:90: UserWarning: Argument `input_length` is deprecated. Just remove it.\n",
            "  warnings.warn(\n"
          ]
        },
        {
          "output_type": "stream",
          "name": "stdout",
          "text": [
            "\u001b[1m8/8\u001b[0m \u001b[32m━━━━━━━━━━━━━━━━━━━━\u001b[0m\u001b[37m\u001b[0m \u001b[1m0s\u001b[0m 18ms/step\n",
            "\n",
            "Fold 1 - Skenario 2 (Data SMOTE, Test)\n",
            "Fold 1 - Test fold: (60, 37)\n"
          ]
        },
        {
          "output_type": "stream",
          "name": "stderr",
          "text": [
            "/usr/local/lib/python3.11/dist-packages/keras/src/layers/core/embedding.py:90: UserWarning: Argument `input_length` is deprecated. Just remove it.\n",
            "  warnings.warn(\n"
          ]
        },
        {
          "output_type": "stream",
          "name": "stdout",
          "text": [
            "\u001b[1m2/2\u001b[0m \u001b[32m━━━━━━━━━━━━━━━━━━━━\u001b[0m\u001b[37m\u001b[0m \u001b[1m0s\u001b[0m 87ms/step\n",
            "\n",
            "Fold 2 - Skenario 2 (Data SMOTE, Test)\n",
            "Fold 2 - Test fold: (60, 37)\n"
          ]
        },
        {
          "output_type": "stream",
          "name": "stderr",
          "text": [
            "/usr/local/lib/python3.11/dist-packages/keras/src/layers/core/embedding.py:90: UserWarning: Argument `input_length` is deprecated. Just remove it.\n",
            "  warnings.warn(\n"
          ]
        },
        {
          "output_type": "stream",
          "name": "stdout",
          "text": [
            "\u001b[1m2/2\u001b[0m \u001b[32m━━━━━━━━━━━━━━━━━━━━\u001b[0m\u001b[37m\u001b[0m \u001b[1m0s\u001b[0m 94ms/step\n",
            "\n",
            "Fold 3 - Skenario 2 (Data SMOTE, Test)\n",
            "Fold 3 - Test fold: (60, 37)\n"
          ]
        },
        {
          "output_type": "stream",
          "name": "stderr",
          "text": [
            "/usr/local/lib/python3.11/dist-packages/keras/src/layers/core/embedding.py:90: UserWarning: Argument `input_length` is deprecated. Just remove it.\n",
            "  warnings.warn(\n"
          ]
        },
        {
          "output_type": "stream",
          "name": "stdout",
          "text": [
            "\u001b[1m2/2\u001b[0m \u001b[32m━━━━━━━━━━━━━━━━━━━━\u001b[0m\u001b[37m\u001b[0m \u001b[1m0s\u001b[0m 92ms/step\n",
            "\n",
            "Fold 4 - Skenario 2 (Data SMOTE, Test)\n",
            "Fold 4 - Test fold: (60, 37)\n"
          ]
        },
        {
          "output_type": "stream",
          "name": "stderr",
          "text": [
            "/usr/local/lib/python3.11/dist-packages/keras/src/layers/core/embedding.py:90: UserWarning: Argument `input_length` is deprecated. Just remove it.\n",
            "  warnings.warn(\n"
          ]
        },
        {
          "output_type": "stream",
          "name": "stdout",
          "text": [
            "\u001b[1m2/2\u001b[0m \u001b[32m━━━━━━━━━━━━━━━━━━━━\u001b[0m\u001b[37m\u001b[0m \u001b[1m0s\u001b[0m 91ms/step\n",
            "\n",
            "Fold 5 - Skenario 2 (Data SMOTE, Test)\n",
            "Fold 5 - Test fold: (60, 37)\n"
          ]
        },
        {
          "output_type": "stream",
          "name": "stderr",
          "text": [
            "/usr/local/lib/python3.11/dist-packages/keras/src/layers/core/embedding.py:90: UserWarning: Argument `input_length` is deprecated. Just remove it.\n",
            "  warnings.warn(\n"
          ]
        },
        {
          "output_type": "stream",
          "name": "stdout",
          "text": [
            "\u001b[1m2/2\u001b[0m \u001b[32m━━━━━━━━━━━━━━━━━━━━\u001b[0m\u001b[37m\u001b[0m \u001b[1m0s\u001b[0m 90ms/step\n",
            "\n",
            "Tabel Hasil Evaluasi - Skenario 1 Train (Validation per Fold, 960 samples total):\n",
            "   Fold  Accuracy  Precision  Recall  F1 Score\n",
            "0     1      0.97       0.97    0.97      0.97\n",
            "1     2      0.94       0.94    0.94      0.94\n",
            "2     3      0.98       0.98    0.98      0.98\n",
            "3     4      0.94       0.94    0.94      0.94\n",
            "4     5      0.95       0.95    0.95      0.95\n",
            "\n",
            "Rata-rata Metrik - Skenario 1 Train:\n",
            "Accuracy     0.96\n",
            "Precision    0.96\n",
            "Recall       0.96\n",
            "F1 Score     0.96\n",
            "dtype: float64\n",
            "\n",
            "Tabel Hasil Evaluasi - Skenario 1 Test (5-Fold, 240 samples total):\n",
            "   Fold  Accuracy  Precision  Recall  F1 Score\n",
            "5     1      0.92       0.92    0.92      0.91\n",
            "6     2      0.92       0.92    0.92      0.92\n",
            "7     3      1.00       1.00    1.00      1.00\n",
            "8     4      0.98       0.98    0.98      0.98\n",
            "9     5      0.96       0.97    0.96      0.96\n",
            "\n",
            "Rata-rata Metrik - Skenario 1 Test:\n",
            "Accuracy     0.96\n",
            "Precision    0.96\n",
            "Recall       0.96\n",
            "F1 Score     0.95\n",
            "dtype: float64\n",
            "\n",
            "Tabel Hasil Evaluasi - Skenario 2 Train (Validation per Fold, 1200 samples total):\n",
            "    Fold  Accuracy  Precision  Recall  F1 Score\n",
            "10     1      0.94       0.94    0.94      0.94\n",
            "11     2      0.95       0.95    0.95      0.95\n",
            "12     3      0.92       0.92    0.92      0.92\n",
            "13     4      0.92       0.92    0.92      0.92\n",
            "14     5      0.93       0.93    0.93      0.92\n",
            "\n",
            "Rata-rata Metrik - Skenario 2 Train:\n",
            "Accuracy     0.93\n",
            "Precision    0.93\n",
            "Recall       0.93\n",
            "F1 Score     0.93\n",
            "dtype: float64\n",
            "\n",
            "Tabel Hasil Evaluasi - Skenario 2 Test (5-Fold, 300 samples total):\n",
            "    Fold  Accuracy  Precision  Recall  F1 Score\n",
            "15     1      0.93       0.93    0.93      0.93\n",
            "16     2      0.92       0.94    0.92      0.92\n",
            "17     3      0.93       0.93    0.93      0.93\n",
            "18     4      0.93       0.93    0.93      0.93\n",
            "19     5      0.95       0.95    0.95      0.95\n",
            "\n",
            "Rata-rata Metrik - Skenario 2 Test:\n",
            "Accuracy     0.93\n",
            "Precision    0.94\n",
            "Recall       0.93\n",
            "F1 Score     0.93\n",
            "dtype: float64\n",
            "\n",
            "Confusion Matrix Agregat - Skenario 1 Train (Total Samples: 960):\n"
          ]
        },
        {
          "output_type": "display_data",
          "data": {
            "text/plain": [
              "<Figure size 800x600 with 2 Axes>"
            ],
            "image/png": "[encoded data removed]"
          },
          "metadata": {}
        },
        {
          "output_type": "stream",
          "name": "stdout",
          "text": [
            "       krama  madya  ngoko\n",
            "krama  385.0   13.0    2.0\n",
            "madya    9.0  145.0    6.0\n",
            "ngoko    4.0    8.0  388.0\n",
            "\n",
            "Confusion Matrix Agregat - Skenario 1 Test (Total Samples: 240):\n"
          ]
        },
        {
          "output_type": "display_data",
          "data": {
            "text/plain": [
              "<Figure size 800x600 with 2 Axes>"
            ],
            "image/png": "[encoded data removed]"
          },
          "metadata": {}
        },
        {
          "output_type": "stream",
          "name": "stdout",
          "text": [
            "       krama  madya  ngoko\n",
            "krama   97.0    2.0    1.0\n",
            "madya    5.0   34.0    1.0\n",
            "ngoko    0.0    2.0   98.0\n",
            "\n",
            "Confusion Matrix Agregat - Skenario 2 Train (Total Samples: 1200):\n"
          ]
        },
        {
          "output_type": "display_data",
          "data": {
            "text/plain": [
              "<Figure size 800x600 with 2 Axes>"
            ],
            "image/png": "[encoded data removed]"
          },
          "metadata": {}
        },
        {
          "output_type": "stream",
          "name": "stdout",
          "text": [
            "       krama  madya  ngoko\n",
            "krama  382.0   17.0    1.0\n",
            "madya   17.0  353.0   30.0\n",
            "ngoko    5.0   14.0  381.0\n",
            "\n",
            "Confusion Matrix Agregat - Skenario 2 Test (Total Samples: 300):\n"
          ]
        },
        {
          "output_type": "display_data",
          "data": {
            "text/plain": [
              "<Figure size 800x600 with 2 Axes>"
            ],
            "image/png": "[encoded data removed]"
          },
          "metadata": {}
        },
        {
          "output_type": "stream",
          "name": "stdout",
          "text": [
            "       krama  madya  ngoko\n",
            "krama   96.0    3.0    1.0\n",
            "madya    5.0   87.0    8.0\n",
            "ngoko    0.0    3.0   97.0\n"
          ]
        }
      ],
      "source": [
        "# Sel 1: Inisiasi dan Preprocessing Data\n",
        "import pandas as pd\n",
        "import numpy as np\n",
        "\n",
        "# Membaca file dataset\n",
        "df = pd.read_excel('/content/sample_data/dataset bahasa jawa.xlsx')\n",
        "\n",
        "# Transformasi dataset: mengubah format menjadi dua kolom (kalimat dan kelas)\n",
        "data = []\n",
        "for index, row in df.iterrows():\n",
        "    data.append({'kalimat': row['Ngoko'], 'kelas': 'ngoko'})\n",
        "    data.append({'kalimat': row['Madya'], 'kelas': 'madya'})\n",
        "    data.append({'kalimat': row['Krama'], 'kelas': 'krama'})\n",
        "\n",
        "# Membuat DataFrame baru\n",
        "df_transformed = pd.DataFrame(data)\n",
        "\n",
        "# Menyesuaikan jumlah data per kelas: Ngoko=500, Madya=200, Krama=500\n",
        "# 1. Ambil 200 sampel Madya secara acak\n",
        "madya_data = df_transformed[df_transformed['kelas'] == 'madya'].sample(n=200, random_state=42)\n",
        "\n",
        "# 2. Oversample Ngoko dan Krama ke 500 menggunakan duplikasi\n",
        "ngoko_data = df_transformed[df_transformed['kelas'] == 'ngoko']\n",
        "krama_data = df_transformed[df_transformed['kelas'] == 'krama']\n",
        "\n",
        "# Duplikasi Ngoko (255 -> 500)\n",
        "ngoko_oversampled = ngoko_data.sample(n=500, replace=True, random_state=42)\n",
        "\n",
        "# Duplikasi Krama (255 -> 500)\n",
        "krama_oversampled = krama_data.sample(n=500, replace=True, random_state=42)\n",
        "\n",
        "# Gabungkan data\n",
        "df_transformed = pd.concat([ngoko_oversampled, madya_data, krama_oversampled], ignore_index=True)\n",
        "\n",
        "# Menampilkan nama kolom dan jumlah data per kelas\n",
        "print(\"Nama kolom dalam dataset:\")\n",
        "print(df_transformed.columns)\n",
        "print(\"\\nJumlah data per kelas:\")\n",
        "print(df_transformed['kelas'].value_counts())\n",
        "\n",
        "# Sel 2: Menampilkan Contoh Data\n",
        "print(\"\\nContoh data per kelas:\")\n",
        "print(\"\\nNgoko (5 contoh pertama):\")\n",
        "print(df_transformed[df_transformed['kelas'] == 'ngoko']['kalimat'].head().values)\n",
        "print(\"\\nMadya (5 contoh pertama):\")\n",
        "print(df_transformed[df_transformed['kelas'] == 'madya']['kalimat'].head().values)\n",
        "print(\"\\nKrama (5 contoh pertama):\")\n",
        "print(df_transformed[df_transformed['kelas'] == 'krama']['kalimat'].head().values)\n",
        "\n",
        "# Sel 3: Cleaning Data\n",
        "import re\n",
        "\n",
        "def clean_text(text):\n",
        "    # Menghapus angka, simbol, dan karakter khusus, hanya menyisakan huruf dan spasi\n",
        "    text = re.sub(r'[^a-zA-Z\\s]', '', str(text))\n",
        "    # Menghapus spasi berlebih\n",
        "    text = re.sub(r'\\s+', ' ', text).strip()\n",
        "    return text\n",
        "\n",
        "df_transformed['kalimat_clean'] = df_transformed['kalimat'].apply(clean_text)\n",
        "print(\"\\nData setelah cleaning:\")\n",
        "print(df_transformed[['kalimat', 'kalimat_clean']].head())\n",
        "\n",
        "# Sel 4: Case Folding\n",
        "df_transformed['kalimat_clean'] = df_transformed['kalimat_clean'].str.lower()\n",
        "print(\"\\nData setelah case folding:\")\n",
        "print(df_transformed['kalimat_clean'].head())\n",
        "\n",
        "# Sel 5: Tokenisasi\n",
        "from tensorflow.keras.preprocessing.text import Tokenizer\n",
        "from tensorflow.keras.preprocessing.sequence import pad_sequences\n",
        "\n",
        "# Inisialisasi tokenizer\n",
        "tokenizer = Tokenizer()\n",
        "tokenizer.fit_on_texts(df_transformed['kalimat_clean'])\n",
        "\n",
        "# Konversi teks ke sequence\n",
        "sequences = tokenizer.texts_to_sequences(df_transformed['kalimat_clean'])\n",
        "\n",
        "# Menentukan panjang maksimum sequence\n",
        "max_length = max([len(seq) for seq in sequences])\n",
        "\n",
        "# Sel 6: Padding\n",
        "padded_sequences = pad_sequences(sequences, maxlen=max_length, padding='post')\n",
        "print(\"\\nContoh data setelah padding:\")\n",
        "print(padded_sequences[:5])\n",
        "\n",
        "# Sel 7: Encoding Label\n",
        "from sklearn.preprocessing import LabelEncoder\n",
        "from tensorflow.keras.utils import to_categorical\n",
        "\n",
        "# Encoding label\n",
        "label_encoder = LabelEncoder()\n",
        "labels = label_encoder.fit_transform(df_transformed['kelas'])\n",
        "labels = to_categorical(labels)\n",
        "\n",
        "# Sel 8: Membangun Model CNN\n",
        "from tensorflow.keras.models import Sequential\n",
        "from tensorflow.keras.layers import Embedding, Conv1D, MaxPooling1D, Dense, Flatten\n",
        "\n",
        "def build_cnn_model(vocab_size, max_length):\n",
        "    model = Sequential([\n",
        "        Embedding(vocab_size, 100, input_length=max_length),\n",
        "        Conv1D(filters=128, kernel_size=5, activation='relu'),\n",
        "        MaxPooling1D(pool_size=2),\n",
        "        Flatten(),\n",
        "        Dense(64, activation='relu'),\n",
        "        Dense(3, activation='softmax')  # 3 kelas: ngoko, madya, krama\n",
        "    ])\n",
        "    model.compile(optimizer='adam', loss='categorical_crossentropy', metrics=['accuracy'])\n",
        "    return model\n",
        "\n",
        "vocab_size = len(tokenizer.word_index) + 1\n",
        "\n",
        "# Sel 9: K-Fold Cross Validation dan Pembagian Data\n",
        "from sklearn.model_selection import KFold, train_test_split\n",
        "\n",
        "# Pembagian data latih (80%) dan uji (20%)\n",
        "X_train, X_test, y_train, y_test = train_test_split(padded_sequences, labels, test_size=0.2, random_state=42, stratify=labels)\n",
        "\n",
        "# Inisialisasi K-Fold\n",
        "kfold = KFold(n_splits=5, shuffle=True, random_state=42)\n",
        "\n",
        "# Debug: Verifikasi ukuran dataset\n",
        "print(\"\\nUkuran dataset setelah train-test split:\")\n",
        "print(f\"X_train: {X_train.shape}, y_train: {y_train.shape}\")\n",
        "print(f\"X_test: {X_test.shape}, y_test: {y_test.shape}\")\n",
        "print(f\"Distribusi kelas di X_train:\\n{pd.Series(np.argmax(y_train, axis=1)).value_counts()}\")\n",
        "print(f\"Distribusi kelas di X_test:\\n{pd.Series(np.argmax(y_test, axis=1)).value_counts()}\")\n",
        "\n",
        "# Sel 10: SMOTE untuk Skenario 2 (Train dan Test)\n",
        "from imblearn.over_sampling import SMOTE\n",
        "\n",
        "# SMOTE untuk data latih (balance ke majority class: 400 per kelas)\n",
        "smote_train = SMOTE(sampling_strategy='auto', random_state=42, k_neighbors=5)\n",
        "X_train_smote, y_train_smote = smote_train.fit_resample(X_train, np.argmax(y_train, axis=1))\n",
        "y_train_smote = to_categorical(y_train_smote)\n",
        "\n",
        "# SMOTE untuk data uji (balance ke majority class: 100 per kelas)\n",
        "smote_test = SMOTE(sampling_strategy={0: 100, 1: 100, 2: 100}, random_state=42, k_neighbors=5)\n",
        "X_test_smote, y_test_smote = smote_test.fit_resample(X_test, np.argmax(y_test, axis=1))\n",
        "y_test_smote = to_categorical(y_test_smote)\n",
        "\n",
        "# Debug: Tampilkan ukuran dataset setelah SMOTE\n",
        "print(\"\\nUkuran dataset setelah SMOTE (Train):\")\n",
        "print(f\"X_train_smote: {X_train_smote.shape}\")\n",
        "print(f\"y_train_smote: {y_train_smote.shape}\")\n",
        "print(f\"Distribusi kelas setelah SMOTE (Train):\\n{pd.Series(np.argmax(y_train_smote, axis=1)).value_counts()}\")\n",
        "print(\"\\nUkuran dataset setelah SMOTE (Test):\")\n",
        "print(f\"X_test_smote: {X_test_smote.shape}\")\n",
        "print(f\"y_test_smote: {y_test_smote.shape}\")\n",
        "print(f\"Distribusi kelas setelah SMOTE (Test):\\n{pd.Series(np.argmax(y_test_smote, axis=1)).value_counts()}\")\n",
        "\n",
        "# Sel 11: Fungsi untuk Evaluasi\n",
        "from sklearn.metrics import accuracy_score, precision_score, recall_score, f1_score, confusion_matrix\n",
        "\n",
        "def evaluate_model(y_true, y_pred, dataset_type, scenario, fold=None):\n",
        "    accuracy = round(accuracy_score(y_true, y_pred), 2)\n",
        "    precision = round(precision_score(y_true, y_pred, average='weighted'), 2)\n",
        "    recall = round(recall_score(y_true, y_pred, average='weighted'), 2)\n",
        "    f1 = round(f1_score(y_true, y_pred, average='weighted'), 2)\n",
        "\n",
        "    result = {\n",
        "        'Dataset': dataset_type,\n",
        "        'Scenario': scenario,\n",
        "        'Accuracy': accuracy,\n",
        "        'Precision': precision,\n",
        "        'Recall': recall,\n",
        "        'F1 Score': f1\n",
        "    }\n",
        "    if fold is not None:\n",
        "        result['Fold'] = fold\n",
        "    return result\n",
        "\n",
        "# Sel 12: Pelatihan dan Evaluasi untuk Skenario 1 (Data Asli)\n",
        "results = []\n",
        "confusion_matrices = {\n",
        "    'Skenario 1 Train': np.zeros((3, 3)),  # Initialize for 3 classes\n",
        "    'Skenario 1 Test': np.zeros((3, 3)),\n",
        "    'Skenario 2 Train': np.zeros((3, 3)),\n",
        "    'Skenario 2 Test': np.zeros((3, 3))\n",
        "}\n",
        "\n",
        "# K-Fold untuk evaluasi training\n",
        "for fold, (train_idx, val_idx) in enumerate(kfold.split(X_train, y_train), 1):\n",
        "    print(f\"\\nFold {fold} - Skenario 1 (Data Asli, Train)\")\n",
        "\n",
        "    # Data untuk fold ini\n",
        "    X_train_fold = X_train[train_idx]\n",
        "    y_train_fold = y_train[train_idx]\n",
        "    X_val_fold = X_train[val_idx]\n",
        "    y_val_fold = y_train[val_idx]\n",
        "\n",
        "    # Debug: Verifikasi ukuran fold\n",
        "    print(f\"Fold {fold} - Train fold: {X_train_fold.shape}, Val fold: {X_val_fold.shape}\")\n",
        "\n",
        "    # Bangun dan latih model\n",
        "    model = build_cnn_model(vocab_size, max_length)\n",
        "    model.fit(X_train_fold, y_train_fold, epochs=10, batch_size=32, verbose=0)\n",
        "\n",
        "    # Prediksi data validasi (untuk evaluasi per fold)\n",
        "    y_val_pred = model.predict(X_val_fold)\n",
        "    y_val_pred_classes = np.argmax(y_val_pred, axis=1)\n",
        "    y_val_true_classes = np.argmax(y_val_fold, axis=1)\n",
        "\n",
        "    # Simpan hasil evaluasi\n",
        "    results.append(evaluate_model(y_val_true_classes, y_val_pred_classes, 'Train', 'Skenario 1', fold))\n",
        "\n",
        "    # Update confusion matrix\n",
        "    confusion_matrices['Skenario 1 Train'] += confusion_matrix(y_val_true_classes, y_val_pred_classes)\n",
        "\n",
        "# K-Fold untuk evaluasi test\n",
        "for fold, (train_idx, test_idx) in enumerate(kfold.split(X_test, y_test), 1):\n",
        "    print(f\"\\nFold {fold} - Skenario 1 (Data Asli, Test)\")\n",
        "\n",
        "    # Data untuk fold ini\n",
        "    X_test_fold = X_test[test_idx]\n",
        "    y_test_fold = y_test[test_idx]\n",
        "\n",
        "    # Debug: Verifikasi ukuran fold\n",
        "    print(f\"Fold {fold} - Test fold: {X_test_fold.shape}\")\n",
        "\n",
        "    # Bangun dan latih model pada seluruh training set\n",
        "    model = build_cnn_model(vocab_size, max_length)\n",
        "    model.fit(X_train, y_train, epochs=10, batch_size=32, verbose=0)\n",
        "\n",
        "    # Prediksi data test\n",
        "    y_test_pred = model.predict(X_test_fold)\n",
        "    y_test_pred_classes = np.argmax(y_test_pred, axis=1)\n",
        "    y_test_true_classes = np.argmax(y_test_fold, axis=1)\n",
        "\n",
        "    # Simpan hasil evaluasi\n",
        "    results.append(evaluate_model(y_test_true_classes, y_test_pred_classes, 'Test', 'Skenario 1', fold))\n",
        "\n",
        "    # Update confusion matrix\n",
        "    confusion_matrices['Skenario 1 Test'] += confusion_matrix(y_test_true_classes, y_test_pred_classes)\n",
        "\n",
        "# Sel 13: Pelatihan dan Evaluasi untuk Skenario 2 (Data SMOTE)\n",
        "# K-Fold untuk evaluasi training\n",
        "for fold, (train_idx, val_idx) in enumerate(kfold.split(X_train_smote, y_train_smote), 1):\n",
        "    print(f\"\\nFold {fold} - Skenario 2 (Data SMOTE, Train)\")\n",
        "\n",
        "    # Data untuk fold ini\n",
        "    X_train_fold = X_train_smote[train_idx]\n",
        "    y_train_fold = y_train_smote[train_idx]\n",
        "    X_val_fold = X_train_smote[val_idx]\n",
        "    y_val_fold = y_train_smote[val_idx]\n",
        "\n",
        "    # Debug: Verifikasi ukuran fold\n",
        "    print(f\"Fold {fold} - Train fold: {X_train_fold.shape}, Val fold: {X_val_fold.shape}\")\n",
        "\n",
        "    # Bangun dan latih model\n",
        "    model = build_cnn_model(vocab_size, max_length)\n",
        "    model.fit(X_train_fold, y_train_fold, epochs=10, batch_size=32, verbose=0)\n",
        "\n",
        "    # Prediksi data validasi\n",
        "    y_val_pred = model.predict(X_val_fold)\n",
        "    y_val_pred_classes = np.argmax(y_val_pred, axis=1)\n",
        "    y_val_true_classes = np.argmax(y_val_fold, axis=1)\n",
        "\n",
        "    # Simpan hasil evaluasi\n",
        "    results.append(evaluate_model(y_val_true_classes, y_val_pred_classes, 'Train', 'Skenario 2', fold))\n",
        "\n",
        "    # Update confusion matrix\n",
        "    confusion_matrices['Skenario 2 Train'] += confusion_matrix(y_val_true_classes, y_val_pred_classes)\n",
        "\n",
        "# K-Fold untuk evaluasi test\n",
        "for fold, (train_idx, test_idx) in enumerate(kfold.split(X_test_smote, y_test_smote), 1):\n",
        "    print(f\"\\nFold {fold} - Skenario 2 (Data SMOTE, Test)\")\n",
        "\n",
        "    # Data untuk fold ini\n",
        "    X_test_fold = X_test_smote[test_idx]\n",
        "    y_test_fold = y_test_smote[test_idx]\n",
        "\n",
        "    # Debug: Verifikasi ukuran fold\n",
        "    print(f\"Fold {fold} - Test fold: {X_test_fold.shape}\")\n",
        "\n",
        "    # Bangun dan latih model pada seluruh SMOTE training set\n",
        "    model = build_cnn_model(vocab_size, max_length)\n",
        "    model.fit(X_train_smote, y_train_smote, epochs=100, batch_size=32, verbose=0)\n",
        "\n",
        "    # Prediksi data test\n",
        "    y_test_pred = model.predict(X_test_fold)\n",
        "    y_test_pred_classes = np.argmax(y_test_pred, axis=1)\n",
        "    y_test_true_classes = np.argmax(y_test_fold, axis=1)\n",
        "\n",
        "    # Simpan hasil evaluasi\n",
        "    results.append(evaluate_model(y_test_true_classes, y_test_pred_classes, 'Test', 'Skenario 2', fold))\n",
        "\n",
        "    # Update confusion matrix\n",
        "    confusion_matrices['Skenario 2 Test'] += confusion_matrix(y_test_true_classes, y_test_pred_classes)\n",
        "\n",
        "# Sel 14: Menampilkan Tabel Hasil Terpisah\n",
        "results_df = pd.DataFrame(results)\n",
        "\n",
        "# Pisahkan tabel berdasarkan skenario dan jenis dataset\n",
        "print(\"\\nTabel Hasil Evaluasi - Skenario 1 Train (Validation per Fold, 960 samples total):\")\n",
        "print(results_df[(results_df['Scenario'] == 'Skenario 1') & (results_df['Dataset'] == 'Train')][['Fold', 'Accuracy', 'Precision', 'Recall', 'F1 Score']])\n",
        "print(\"\\nRata-rata Metrik - Skenario 1 Train:\")\n",
        "print(results_df[(results_df['Scenario'] == 'Skenario 1') & (results_df['Dataset'] == 'Train')][['Accuracy', 'Precision', 'Recall', 'F1 Score']].mean().round(2))\n",
        "\n",
        "print(\"\\nTabel Hasil Evaluasi - Skenario 1 Test (5-Fold, 240 samples total):\")\n",
        "print(results_df[(results_df['Scenario'] == 'Skenario 1') & (results_df['Dataset'] == 'Test')][['Fold', 'Accuracy', 'Precision', 'Recall', 'F1 Score']])\n",
        "print(\"\\nRata-rata Metrik - Skenario 1 Test:\")\n",
        "print(results_df[(results_df['Scenario'] == 'Skenario 1') & (results_df['Dataset'] == 'Test')][['Accuracy', 'Precision', 'Recall', 'F1 Score']].mean().round(2))\n",
        "\n",
        "print(\"\\nTabel Hasil Evaluasi - Skenario 2 Train (Validation per Fold, 1200 samples total):\")\n",
        "print(results_df[(results_df['Scenario'] == 'Skenario 2') & (results_df['Dataset'] == 'Train')][['Fold', 'Accuracy', 'Precision', 'Recall', 'F1 Score']])\n",
        "print(\"\\nRata-rata Metrik - Skenario 2 Train:\")\n",
        "print(results_df[(results_df['Scenario'] == 'Skenario 2') & (results_df['Dataset'] == 'Train')][['Accuracy', 'Precision', 'Recall', 'F1 Score']].mean().round(2))\n",
        "\n",
        "print(\"\\nTabel Hasil Evaluasi - Skenario 2 Test (5-Fold, 300 samples total):\")\n",
        "print(results_df[(results_df['Scenario'] == 'Skenario 2') & (results_df['Dataset'] == 'Test')][['Fold', 'Accuracy', 'Precision', 'Recall', 'F1 Score']])\n",
        "print(\"\\nRata-rata Metrik - Skenario 2 Test:\")\n",
        "print(results_df[(results_df['Scenario'] == 'Skenario 2') & (results_df['Dataset'] == 'Test')][['Accuracy', 'Precision', 'Recall', 'F1 Score']].mean().round(2))\n",
        "\n",
        "# Sel 15: Menampilkan Confusion Matrix sebagai Gambar\n",
        "import seaborn as sns\n",
        "import matplotlib.pyplot as plt\n",
        "\n",
        "class_names = label_encoder.classes_\n",
        "\n",
        "for key in confusion_matrices:\n",
        "    print(f\"\\nConfusion Matrix Agregat - {key} (Total Samples: {int(np.sum(confusion_matrices[key]))}):\")\n",
        "    cm = confusion_matrices[key]\n",
        "\n",
        "    # Buat heatmap\n",
        "    plt.figure(figsize=(8, 6))\n",
        "    sns.heatmap(cm, annot=True, fmt='.0f', cmap='Blues',\n",
        "                xticklabels=class_names, yticklabels=class_names)\n",
        "    plt.title(f'Confusion Matrix - {key}')\n",
        "    plt.xlabel('Predicted')\n",
        "    plt.ylabel('True')\n",
        "    plt.show()\n",
        "\n",
        "    # Tampilkan sebagai tabel untuk referensi\n",
        "    cm_df = pd.DataFrame(cm, index=class_names, columns=class_names)\n",
        "    print(cm_df)"
      ]
    }
  ]
}